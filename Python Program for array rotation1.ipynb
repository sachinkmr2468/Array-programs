{
 "cells": [
  {
   "cell_type": "markdown",
   "metadata": {},
   "source": [
    "# Python Program for array rotation\n",
    "#input = [1,2,3,4,5,6,7]\n",
    "#rigtshift = [7,6,1,2,3,4,5]\n",
    "#leftshift= [3,4,5,6,7,1,2]"
   ]
  },
  {
   "cell_type": "code",
   "execution_count": 23,
   "metadata": {},
   "outputs": [
    {
     "name": "stdout",
     "output_type": "stream",
     "text": [
      "enter the type of rotation you want = right\n",
      "[7, 6, 1, 2, 3, 4, 5] is the original array and after rotation it becomes [7, 6, 1, 2, 3, 4, 5]\n"
     ]
    }
   ],
   "source": [
    "def rotateArray(arr,n,d,dir):\n",
    "    temp = []\n",
    "    i = 0\n",
    "    if (dir == 'left'):\n",
    "        while(i<d):\n",
    "            temp.append(arr[i])\n",
    "            i = i + 1\n",
    "        \n",
    "        i = 0\n",
    "        while (d<n):\n",
    "            arr[i] = arr[d]\n",
    "            i =i + 1\n",
    "            d = d +1\n",
    "        arr[:] = arr[:i] + temp\n",
    "        return arr\n",
    "    elif(dir=='right'):\n",
    "        temp = []\n",
    "        i = 1\n",
    "        while(i<=d):\n",
    "            temp.append(arr[-i])\n",
    "            i = i + 1\n",
    "        i = 1\n",
    "        j = 3\n",
    "        z = 0\n",
    "        while(d<n):\n",
    "            arr[-i] = arr[-j]\n",
    "            j = j + 1\n",
    "            i = i +1\n",
    "            d = d +1\n",
    "            z = z + 1\n",
    "        arr[:] =  temp + arr[-z: ]\n",
    "        return arr\n",
    "    else:\n",
    "        print('try your luck again')\n",
    "        \n",
    "    \n",
    "arr = [1,2,3,4,5,6,7]\n",
    "direction = input('enter the type of rotation you want = ')\n",
    "after_rotate = rotateArray(arr,len(arr),2,direction)\n",
    "print(arr,'is the original array and after rotation it becomes',after_rotate)"
   ]
  },
  {
   "cell_type": "code",
   "execution_count": null,
   "metadata": {},
   "outputs": [],
   "source": []
  }
 ],
 "metadata": {
  "kernelspec": {
   "display_name": "Python 3",
   "language": "python",
   "name": "python3"
  },
  "language_info": {
   "codemirror_mode": {
    "name": "ipython",
    "version": 3
   },
   "file_extension": ".py",
   "mimetype": "text/x-python",
   "name": "python",
   "nbconvert_exporter": "python",
   "pygments_lexer": "ipython3",
   "version": "3.8.5"
  }
 },
 "nbformat": 4,
 "nbformat_minor": 4
}
