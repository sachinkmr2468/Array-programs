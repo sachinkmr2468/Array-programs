{
 "cells": [
  {
   "cell_type": "markdown",
   "metadata": {},
   "source": [
    "# Python Program to find largest element in an array"
   ]
  },
  {
   "cell_type": "code",
   "execution_count": 25,
   "metadata": {},
   "outputs": [
    {
     "name": "stdout",
     "output_type": "stream",
     "text": [
      "largest element within the given list is 7\n"
     ]
    }
   ],
   "source": [
    "num = [4,2,7,1]\n",
    "\n",
    "num.sort()\n",
    "\n",
    "print('largest element within the given list is',num[-1])\n"
   ]
  },
  {
   "cell_type": "code",
   "execution_count": 26,
   "metadata": {},
   "outputs": [
    {
     "name": "stdout",
     "output_type": "stream",
     "text": [
      "7\n"
     ]
    }
   ],
   "source": [
    "num = [4,2,7,1]\n",
    "print(max(num))\n"
   ]
  },
  {
   "cell_type": "code",
   "execution_count": 29,
   "metadata": {},
   "outputs": [
    {
     "name": "stdout",
     "output_type": "stream",
     "text": [
      "what lenght of list you wanna create4\n",
      "enter the numbers2\n",
      "enter the numbers1\n",
      "enter the numbers6\n",
      "enter the numbers2\n",
      "largest number within the list is 6\n"
     ]
    }
   ],
   "source": [
    "num = []\n",
    "\n",
    "# number of elements to be entered in list\n",
    "count = int(input('what lenght of list you wanna create'))\n",
    "\n",
    "for i in range(count):\n",
    "    num1 = int(input('enter the numbers'))\n",
    "    num.append(num1)\n",
    "print('largest number within the list is',max(num))"
   ]
  },
  {
   "cell_type": "code",
   "execution_count": null,
   "metadata": {},
   "outputs": [],
   "source": []
  }
 ],
 "metadata": {
  "kernelspec": {
   "display_name": "Python 3",
   "language": "python",
   "name": "python3"
  },
  "language_info": {
   "codemirror_mode": {
    "name": "ipython",
    "version": 3
   },
   "file_extension": ".py",
   "mimetype": "text/x-python",
   "name": "python",
   "nbconvert_exporter": "python",
   "pygments_lexer": "ipython3",
   "version": "3.6.5"
  }
 },
 "nbformat": 4,
 "nbformat_minor": 2
}
